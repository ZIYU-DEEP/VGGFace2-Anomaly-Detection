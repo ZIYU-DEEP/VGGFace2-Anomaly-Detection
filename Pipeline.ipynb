{
 "cells": [
  {
   "cell_type": "markdown",
   "metadata": {},
   "source": [
    "# 1. Preparing"
   ]
  },
  {
   "cell_type": "code",
   "execution_count": 83,
   "metadata": {
    "scrolled": true
   },
   "outputs": [],
   "source": [
    "import os\n",
    "import re\n",
    "import csv\n",
    "import sys\n",
    "import json\n",
    "import time\n",
    "import glob\n",
    "import torch\n",
    "import scipy.io\n",
    "import PIL.Image\n",
    "import collections\n",
    "import numpy as np\n",
    "import pandas as pd\n",
    "import torch.nn as nn\n",
    "import torchlayers as tl\n",
    "import torch.optim as optim\n",
    "import torchvision.transforms\n",
    "import torchvision.datasets as datasets\n",
    "\n",
    "from pathlib import Path\n",
    "from torchsummary import summary\n",
    "from torchvision import transforms\n",
    "from abc import ABC, abstractmethod\n",
    "from torch.utils.data import Dataset\n",
    "from torch.utils.data import DataLoader\n",
    "from sklearn.metrics import roc_auc_score"
   ]
  },
  {
   "cell_type": "code",
   "execution_count": 107,
   "metadata": {},
   "outputs": [],
   "source": [
    "meta_file_path = '/net/leksai/data/vggface2/identity_meta.csv'\n",
    "device = torch.device('cuda:2' if torch.cuda.is_available() else 'cpu')\n",
    "imsize = 224\n",
    "root = '/net/leksai/data/vggface2'\n",
    "folder = 'n009177'\n",
    "loader_name = 'vggface2'\n",
    "folder = 'n009177'\n",
    "transform = True"
   ]
  },
  {
   "cell_type": "code",
   "execution_count": 5,
   "metadata": {},
   "outputs": [
    {
     "data": {
      "text/html": [
       "<div>\n",
       "<style scoped>\n",
       "    .dataframe tbody tr th:only-of-type {\n",
       "        vertical-align: middle;\n",
       "    }\n",
       "\n",
       "    .dataframe tbody tr th {\n",
       "        vertical-align: top;\n",
       "    }\n",
       "\n",
       "    .dataframe thead th {\n",
       "        text-align: right;\n",
       "    }\n",
       "</style>\n",
       "<table border=\"1\" class=\"dataframe\">\n",
       "  <thead>\n",
       "    <tr style=\"text-align: right;\">\n",
       "      <th></th>\n",
       "      <th>Class_ID</th>\n",
       "      <th>Name</th>\n",
       "      <th>Sample_Num</th>\n",
       "      <th>Flag</th>\n",
       "      <th>Gender</th>\n",
       "    </tr>\n",
       "  </thead>\n",
       "  <tbody>\n",
       "    <tr>\n",
       "      <th>0</th>\n",
       "      <td>n000001</td>\n",
       "      <td>\"14th_Dalai_Lama\"</td>\n",
       "      <td>424</td>\n",
       "      <td>0</td>\n",
       "      <td>m</td>\n",
       "    </tr>\n",
       "    <tr>\n",
       "      <th>1</th>\n",
       "      <td>n000002</td>\n",
       "      <td>\"A_Fine_Frenzy\"</td>\n",
       "      <td>315</td>\n",
       "      <td>1</td>\n",
       "      <td>f</td>\n",
       "    </tr>\n",
       "    <tr>\n",
       "      <th>2</th>\n",
       "      <td>n000003</td>\n",
       "      <td>\"A._A._Gill\"</td>\n",
       "      <td>205</td>\n",
       "      <td>1</td>\n",
       "      <td>m</td>\n",
       "    </tr>\n",
       "    <tr>\n",
       "      <th>3</th>\n",
       "      <td>n000004</td>\n",
       "      <td>\"A._J._Buckley\"</td>\n",
       "      <td>387</td>\n",
       "      <td>1</td>\n",
       "      <td>m</td>\n",
       "    </tr>\n",
       "    <tr>\n",
       "      <th>4</th>\n",
       "      <td>n000005</td>\n",
       "      <td>\"A._J._Pierzynski\"</td>\n",
       "      <td>229</td>\n",
       "      <td>1</td>\n",
       "      <td>m</td>\n",
       "    </tr>\n",
       "  </tbody>\n",
       "</table>\n",
       "</div>"
      ],
      "text/plain": [
       "  Class_ID                Name  Sample_Num  Flag Gender\n",
       "0  n000001   \"14th_Dalai_Lama\"         424     0      m\n",
       "1  n000002     \"A_Fine_Frenzy\"         315     1      f\n",
       "2  n000003        \"A._A._Gill\"         205     1      m\n",
       "3  n000004     \"A._J._Buckley\"         387     1      m\n",
       "4  n000005  \"A._J._Pierzynski\"         229     1      m"
      ]
     },
     "execution_count": 5,
     "metadata": {},
     "output_type": "execute_result"
    }
   ],
   "source": [
    "df = pd.read_csv(meta_file_path, sep=',\\s+', encoding='utf-8', engine='python')\n",
    "df.head()"
   ]
  },
  {
   "cell_type": "markdown",
   "metadata": {},
   "source": [
    "# 2. Dataset"
   ]
  },
  {
   "cell_type": "code",
   "execution_count": 82,
   "metadata": {},
   "outputs": [
    {
     "data": {
      "text/plain": [
       "4332"
      ]
     },
     "execution_count": 82,
     "metadata": {},
     "output_type": "execute_result"
    }
   ],
   "source": [
    "s = 'n004332'\n",
    "\n",
    "\n",
    "int(re.findall(r'[0-9]+', s)[0].lstrip('0'))"
   ]
  },
  {
   "cell_type": "code",
   "execution_count": 91,
   "metadata": {},
   "outputs": [],
   "source": [
    "class VGGFace2Data(Dataset): \n",
    "    def __init__(self,\n",
    "                 root: str='/net/leksai/data/vggface2',\n",
    "                 folder: str='n009177',\n",
    "                 transform: bool=True,\n",
    "                 train: bool=True):\n",
    "        \n",
    "        self.folder = folder\n",
    "        self.train = train\n",
    "        self.transform = transform\n",
    "        \n",
    "        if self.train:\n",
    "            self.root = root + '/train'\n",
    "        else:\n",
    "            self.root = root + '/test'\n",
    "        self.data_path = self.root + '/' + folder\n",
    "        \n",
    "        self.img_info = []\n",
    "        \n",
    "        # Save image information\n",
    "        for i, file in enumerate(glob.glob(self.data_path + '/*.jpg')):\n",
    "            file = file.strip()\n",
    "            class_id_str = file.split('/')[- 2]  # e.g. n004332\n",
    "            class_id = int(re.findall(r'[0-9]+', class_id_str)[0].lstrip('0'))\n",
    "            self.img_info.append({'class_id': class_id,\n",
    "                                  'source': file})\n",
    "        \n",
    "        # Transformers\n",
    "        RGB_MEAN, RGB_STD = [0.485, 0.456, 0.406], [0.229, 0.224, 0.225]\n",
    "        self.train_transform = transforms.Compose([transforms.Resize(256), \n",
    "                                                   transforms.RandomCrop(224),\n",
    "                                                   transforms.ToTensor(),\n",
    "                                                   transforms.Normalize(mean=RGB_MEAN,\n",
    "                                                                        std=RGB_STD)])\n",
    "\n",
    "        self.test_transform = transforms.Compose([transforms.Resize(256), \n",
    "                                                  transforms.CenterCrop(224),\n",
    "                                                  transforms.ToTensor(),\n",
    "                                                  transforms.Normalize(mean=RGB_MEAN,\n",
    "                                                                       std=RGB_STD)])\n",
    "\n",
    "    def __getitem__(self, index):\n",
    "        info = self.img_info[index]\n",
    "        source = info['source']\n",
    "        class_id = info['class_id']\n",
    "        img = PIL.Image.open(os.path.join(self.root, source))\n",
    "        \n",
    "        if not self.transform:\n",
    "            return img, class_id, index\n",
    "        \n",
    "        if self.train:\n",
    "            img = self.train_transform(img)\n",
    "        else:\n",
    "            img = self.test_transform(img)\n",
    "        return img, class_id, index\n",
    "\n",
    "    def __len__(self):\n",
    "        return len(self.img_info)"
   ]
  },
  {
   "cell_type": "markdown",
   "metadata": {},
   "source": [
    "## 2.1. Try out the Dataset"
   ]
  },
  {
   "cell_type": "code",
   "execution_count": 92,
   "metadata": {},
   "outputs": [],
   "source": [
    "test = VGGFace2Data()\n",
    "test_raw = VGGFace2Data(transform=False)"
   ]
  },
  {
   "cell_type": "markdown",
   "metadata": {},
   "source": [
    "### 2.1.1. Raw Data"
   ]
  },
  {
   "cell_type": "code",
   "execution_count": 93,
   "metadata": {},
   "outputs": [
    {
     "data": {
      "image/png": "[encoded data removed]",
      "text/plain": [
       "<PIL.JpegImagePlugin.JpegImageFile image mode=RGB size=128x145 at 0x7F99450E0F10>"
      ]
     },
     "execution_count": 93,
     "metadata": {},
     "output_type": "execute_result"
    }
   ],
   "source": [
    "test_raw[205][0]"
   ]
  },
  {
   "cell_type": "markdown",
   "metadata": {},
   "source": [
    "### 2.1.2 Transformed Data"
   ]
  },
  {
   "cell_type": "code",
   "execution_count": 94,
   "metadata": {},
   "outputs": [
    {
     "data": {
      "image/png": "[encoded data removed]",
      "text/plain": [
       "<PIL.Image.Image image mode=RGB size=224x224 at 0x7F99E9978290>"
      ]
     },
     "execution_count": 94,
     "metadata": {},
     "output_type": "execute_result"
    }
   ],
   "source": [
    "transforms.ToPILImage()(test[205][0]).convert('RGB')"
   ]
  },
  {
   "cell_type": "code",
   "execution_count": 95,
   "metadata": {},
   "outputs": [
    {
     "data": {
      "text/plain": [
       "torch.Size([3, 224, 224])"
      ]
     },
     "execution_count": 95,
     "metadata": {},
     "output_type": "execute_result"
    }
   ],
   "source": [
    "test[205][0].shape"
   ]
  },
  {
   "cell_type": "markdown",
   "metadata": {},
   "source": [
    "# 3. DataLoader"
   ]
  },
  {
   "cell_type": "markdown",
   "metadata": {},
   "source": [
    "## 3.1 Loader Class"
   ]
  },
  {
   "cell_type": "code",
   "execution_count": 120,
   "metadata": {},
   "outputs": [],
   "source": [
    "class VGGFace2Loader:\n",
    "    def __init__(self,\n",
    "                 root: str='/net/leksai/data/vggface2',\n",
    "                 folder: str='n009177',\n",
    "                 transform: bool=True):\n",
    "\n",
    "        print('Hi! I am setting train_set for you.')\n",
    "        self.train_set = VGGFace2Data(root,\n",
    "                                       folder,\n",
    "                                       transform,\n",
    "                                       True)\n",
    "        print('\\nHi! I am setting test_set for you.')\n",
    "        self.test_set = VGGFace2Data(root,\n",
    "                                     folder,\n",
    "                                     transform,\n",
    "                                     False)\n",
    "    def loaders(self,\n",
    "                batch_size: int=1,\n",
    "                shuffle_train: bool=True,\n",
    "                shuffle_test: bool=False,\n",
    "                num_workers: int = 0) -> (DataLoader, DataLoader):\n",
    "\n",
    "        train_loader = DataLoader(dataset=self.train_set,\n",
    "                                  batch_size=batch_size,\n",
    "                                  shuffle=shuffle_train,\n",
    "                                  num_workers=num_workers,\n",
    "                                  drop_last=False)\n",
    "\n",
    "        test_loader = DataLoader(dataset=self.test_set,\n",
    "                                 batch_size=batch_size,\n",
    "                                 shuffle=shuffle_test,\n",
    "                                 num_workers=num_workers,\n",
    "                                 drop_last=False)\n",
    "        return train_loader, test_loader\n",
    "\n",
    "    def __repr__(self):\n",
    "        return self.__class__.__name__"
   ]
  },
  {
   "cell_type": "markdown",
   "metadata": {},
   "source": [
    "## 3.2. Loading Function"
   ]
  },
  {
   "cell_type": "code",
   "execution_count": 121,
   "metadata": {},
   "outputs": [],
   "source": [
    "def load_dataset(loader_name: str='vggface2',\n",
    "                 root: str='/net/leksai/data/vggface2',\n",
    "                 folder: str='n009177',\n",
    "                 transform: bool=True):\n",
    "    \n",
    "    if loader_name == 'vggface2':\n",
    "        return VGGFace2Loader(root, folder, transform)"
   ]
  },
  {
   "cell_type": "markdown",
   "metadata": {},
   "source": [
    "# 4. Network"
   ]
  },
  {
   "cell_type": "markdown",
   "metadata": {},
   "source": [
    "## 4.1. Architecture"
   ]
  },
  {
   "cell_type": "code",
   "execution_count": 96,
   "metadata": {},
   "outputs": [],
   "source": [
    "# Cited from https://github.com/foamliu/Autoencoder/\n",
    "\n",
    "class conv2DBatchNormRelu(nn.Module):\n",
    "    def __init__(\n",
    "            self,\n",
    "            in_channels,\n",
    "            n_filters,\n",
    "            k_size,\n",
    "            stride,\n",
    "            padding,\n",
    "            bias=True,\n",
    "            dilation=1,\n",
    "            with_bn=True,\n",
    "    ):\n",
    "        super(conv2DBatchNormRelu, self).__init__()\n",
    "\n",
    "        conv_mod = nn.Conv2d(int(in_channels),\n",
    "                             int(n_filters),\n",
    "                             kernel_size=k_size,\n",
    "                             padding=padding,\n",
    "                             stride=stride,\n",
    "                             bias=bias,\n",
    "                             dilation=dilation, )\n",
    "\n",
    "        if with_bn:\n",
    "            self.cbr_unit = nn.Sequential(conv_mod,\n",
    "                                          nn.BatchNorm2d(int(n_filters)),\n",
    "                                          nn.ReLU(inplace=True))\n",
    "        else:\n",
    "            self.cbr_unit = nn.Sequential(conv_mod, nn.ReLU(inplace=True))\n",
    "\n",
    "    def forward(self, inputs):\n",
    "        outputs = self.cbr_unit(inputs)\n",
    "        return outputs\n",
    "\n",
    "\n",
    "class segnetDown2(nn.Module):\n",
    "    def __init__(self, in_size, out_size):\n",
    "        super(segnetDown2, self).__init__()\n",
    "        self.conv1 = conv2DBatchNormRelu(in_size, out_size, 3, 1, 1)\n",
    "        self.conv2 = conv2DBatchNormRelu(out_size, out_size, 3, 1, 1)\n",
    "        self.maxpool_with_argmax = nn.MaxPool2d(2, 2, return_indices=True)\n",
    "\n",
    "    def forward(self, inputs):\n",
    "        outputs = self.conv1(inputs)\n",
    "        outputs = self.conv2(outputs)\n",
    "        unpooled_shape = outputs.size()\n",
    "        outputs, indices = self.maxpool_with_argmax(outputs)\n",
    "        return outputs, indices, unpooled_shape\n",
    "\n",
    "\n",
    "class segnetDown3(nn.Module):\n",
    "    def __init__(self, in_size, out_size):\n",
    "        super(segnetDown3, self).__init__()\n",
    "        self.conv1 = conv2DBatchNormRelu(in_size, out_size, 3, 1, 1)\n",
    "        self.conv2 = conv2DBatchNormRelu(out_size, out_size, 3, 1, 1)\n",
    "        self.conv3 = conv2DBatchNormRelu(out_size, out_size, 3, 1, 1)\n",
    "        self.maxpool_with_argmax = nn.MaxPool2d(2, 2, return_indices=True)\n",
    "\n",
    "    def forward(self, inputs):\n",
    "        outputs = self.conv1(inputs)\n",
    "        outputs = self.conv2(outputs)\n",
    "        outputs = self.conv3(outputs)\n",
    "        unpooled_shape = outputs.size()\n",
    "        outputs, indices = self.maxpool_with_argmax(outputs)\n",
    "        return outputs, indices, unpooled_shape\n",
    "\n",
    "\n",
    "class segnetUp2(nn.Module):\n",
    "    def __init__(self, in_size, out_size):\n",
    "        super(segnetUp2, self).__init__()\n",
    "        self.unpool = nn.MaxUnpool2d(2, 2)\n",
    "        self.conv1 = conv2DBatchNormRelu(in_size, in_size, 3, 1, 1)\n",
    "        self.conv2 = conv2DBatchNormRelu(in_size, out_size, 3, 1, 1)\n",
    "\n",
    "    def forward(self, inputs, indices, output_shape):\n",
    "        outputs = self.unpool(input=inputs, indices=indices, output_size=output_shape)\n",
    "        outputs = self.conv1(outputs)\n",
    "        outputs = self.conv2(outputs)\n",
    "        return outputs\n",
    "\n",
    "\n",
    "class segnetUp3(nn.Module):\n",
    "    def __init__(self, in_size, out_size):\n",
    "        super(segnetUp3, self).__init__()\n",
    "        self.unpool = nn.MaxUnpool2d(2, 2)\n",
    "        self.conv1 = conv2DBatchNormRelu(in_size, in_size, 3, 1, 1)\n",
    "        self.conv2 = conv2DBatchNormRelu(in_size, in_size, 3, 1, 1)\n",
    "        self.conv3 = conv2DBatchNormRelu(in_size, out_size, 3, 1, 1)\n",
    "\n",
    "    def forward(self, inputs, indices, output_shape):\n",
    "        outputs = self.unpool(input=inputs, indices=indices, output_size=output_shape)\n",
    "        outputs = self.conv1(outputs)\n",
    "        outputs = self.conv2(outputs)\n",
    "        outputs = self.conv3(outputs)\n",
    "        return outputs\n",
    "\n",
    "\n",
    "class SegNet(nn.Module):\n",
    "    def __init__(self, n_classes=3, in_channels=3, is_unpooling=True):\n",
    "        super(SegNet, self).__init__()\n",
    "\n",
    "        self.in_channels = in_channels\n",
    "        self.is_unpooling = is_unpooling\n",
    "\n",
    "        self.down1 = segnetDown2(self.in_channels, 64)\n",
    "        self.down2 = segnetDown2(64, 128)\n",
    "        self.down3 = segnetDown3(128, 256)\n",
    "        self.down4 = segnetDown3(256, 512)\n",
    "        self.down5 = segnetDown3(512, 512)\n",
    "\n",
    "        self.up5 = segnetUp3(512, 512)\n",
    "        self.up4 = segnetUp3(512, 256)\n",
    "        self.up3 = segnetUp3(256, 128)\n",
    "        self.up2 = segnetUp2(128, 64)\n",
    "        self.up1 = segnetUp2(64, n_classes)\n",
    "\n",
    "    def forward(self, inputs):\n",
    "\n",
    "        down1, indices_1, unpool_shape1 = self.down1(inputs)\n",
    "        down2, indices_2, unpool_shape2 = self.down2(down1)\n",
    "        down3, indices_3, unpool_shape3 = self.down3(down2)\n",
    "        down4, indices_4, unpool_shape4 = self.down4(down3)\n",
    "        down5, indices_5, unpool_shape5 = self.down5(down4)\n",
    "\n",
    "        up5 = self.up5(down5, indices_5, unpool_shape5)\n",
    "        up4 = self.up4(up5, indices_4, unpool_shape4)\n",
    "        up3 = self.up3(up4, indices_3, unpool_shape3)\n",
    "        up2 = self.up2(up3, indices_2, unpool_shape2)\n",
    "        up1 = self.up1(up2, indices_1, unpool_shape1)\n",
    "\n",
    "        return up1"
   ]
  },
  {
   "cell_type": "code",
   "execution_count": 65,
   "metadata": {},
   "outputs": [],
   "source": [
    "model = SegNet()"
   ]
  },
  {
   "cell_type": "code",
   "execution_count": 66,
   "metadata": {},
   "outputs": [],
   "source": [
    "x = torch.randn(1, 3, 224, 224)"
   ]
  },
  {
   "cell_type": "code",
   "execution_count": 67,
   "metadata": {},
   "outputs": [],
   "source": [
    "n = model(x)"
   ]
  },
  {
   "cell_type": "code",
   "execution_count": 68,
   "metadata": {},
   "outputs": [
    {
     "data": {
      "text/plain": [
       "torch.Size([1, 512, 7, 7])"
      ]
     },
     "execution_count": 68,
     "metadata": {},
     "output_type": "execute_result"
    }
   ],
   "source": [
    "n.shape"
   ]
  },
  {
   "cell_type": "markdown",
   "metadata": {},
   "source": [
    "## 4.2. Build Network"
   ]
  },
  {
   "cell_type": "code",
   "execution_count": 97,
   "metadata": {},
   "outputs": [],
   "source": [
    "def build_network(net_name='segnet'):\n",
    "    known_networks = ('segnet')\n",
    "    assert net_name in known_networks\n",
    "\n",
    "    net_name = net_name.strip()\n",
    "\n",
    "    if net_name == 'segnet':\n",
    "        return SegNet()\n",
    "\n",
    "    return None\n",
    "\n",
    "\n",
    "def build_autoencoder(net_name='segnet'):\n",
    "    known_networks = ('segnet')\n",
    "    assert net_name in known_networks\n",
    "\n",
    "    net_name = net_name.strip()\n",
    "\n",
    "    if net_name == 'segnet':\n",
    "        return SegNet()\n",
    "\n",
    "    return None"
   ]
  },
  {
   "cell_type": "markdown",
   "metadata": {},
   "source": [
    "# 5. Trainer"
   ]
  },
  {
   "cell_type": "markdown",
   "metadata": {},
   "source": [
    "## 5.1. Base Model"
   ]
  },
  {
   "cell_type": "code",
   "execution_count": 98,
   "metadata": {},
   "outputs": [],
   "source": [
    "class BaseTrainer(ABC):\n",
    "    def __init__(self,\n",
    "                 optimizer_name: str,\n",
    "                 lr: float,\n",
    "                 n_epochs: int,\n",
    "                 lr_milestones: tuple,\n",
    "                 batch_size: int,\n",
    "                 weight_decay: float,\n",
    "                 device: str,\n",
    "                 n_jobs_dataloader: int):\n",
    "\n",
    "        super().__init__()\n",
    "        self.optimizer_name = optimizer_name\n",
    "        self.lr = lr\n",
    "        self.n_epochs = n_epochs\n",
    "        self.lr_milestones = lr_milestones\n",
    "        self.batch_size = batch_size\n",
    "        self.weight_decay = weight_decay\n",
    "        self.device = device\n",
    "        self.n_jobs_dataloader = n_jobs_dataloader\n",
    "\n",
    "    @abstractmethod\n",
    "    def train(self, dataset, net):\n",
    "        pass\n",
    "\n",
    "    @abstractmethod\n",
    "    def test(self, dataset, net):\n",
    "        pass"
   ]
  },
  {
   "cell_type": "code",
   "execution_count": 99,
   "metadata": {},
   "outputs": [],
   "source": [
    "class BaseEvaluater(ABC):\n",
    "    def __init__(self,\n",
    "                 batch_size: int,\n",
    "                 device: str,\n",
    "                 n_jobs_dataloader: int):\n",
    "\n",
    "        super().__init__()\n",
    "        self.batch_size = batch_size\n",
    "        self.device = device\n",
    "        self.n_jobs_dataloader = n_jobs_dataloader\n",
    "\n",
    "\n",
    "    @abstractmethod\n",
    "    def test(self, dataset, net):\n",
    "        pass"
   ]
  },
  {
   "cell_type": "markdown",
   "metadata": {},
   "source": [
    "## 5.2. Reconstruction Trainer"
   ]
  },
  {
   "cell_type": "code",
   "execution_count": 102,
   "metadata": {},
   "outputs": [],
   "source": [
    "class Trainer_(BaseTrainer):\n",
    "    def __init__(self,\n",
    "                 eta: float= 1,\n",
    "                 optimizer_name: str = 'adam',\n",
    "                 lr: float = 0.01,\n",
    "                 n_epochs: int = 60,\n",
    "                 lr_milestones: tuple = (50, 100, 150, 200),\n",
    "                 batch_size: int = 16,\n",
    "                 weight_decay: float = 1e-6,\n",
    "                 device: str = 'cuda:1',\n",
    "                 n_jobs_dataloader: int = 0):\n",
    "\n",
    "        super().__init__(optimizer_name, lr, n_epochs, lr_milestones, batch_size,\n",
    "                         weight_decay, device, n_jobs_dataloader)\n",
    "        self.eta = eta\n",
    "        self.train_time = None\n",
    "        self.test_auc = None\n",
    "        self.test_time = None\n",
    "        self.test_scores = None\n",
    "\n",
    "    def train(self, dataset, net):\n",
    "        train_loader, _ = dataset.loaders(batch_size=self.batch_size,\n",
    "                                          num_workers=self.n_jobs_dataloader)\n",
    "\n",
    "        print('Hey I am loading net for you!')\n",
    "        net = net.to(self.device)\n",
    "\n",
    "        print('Setting hyper-parameters!')\n",
    "        criterion = nn.MSELoss(reduction='none')\n",
    "        optimizer = optim.Adam(net.parameters(),\n",
    "                               lr=self.lr,\n",
    "                               weight_decay=self.weight_decay)\n",
    "        scheduler = optim.lr_scheduler.MultiStepLR(optimizer,\n",
    "                                                   milestones=self.lr_milestones,\n",
    "                                                   gamma=0.1)\n",
    "\n",
    "        print('Starting training...')\n",
    "        start_time = time.time()\n",
    "        net.train()\n",
    "        for epoch in range(self.n_epochs):\n",
    "            if epoch in self.lr_milestones:\n",
    "                print('  LR scheduler: new learning rate is %g' %\n",
    "                            float(scheduler.get_lr()[0]))\n",
    "\n",
    "            epoch_loss, n_batches = 0.0, 0\n",
    "            epoch_start_time = time.time()\n",
    "\n",
    "            for data in train_loader:\n",
    "                X, y, _ = data\n",
    "                X, y = X.to(self.device), y.to(self.device)\n",
    "                optimizer.zero_grad()\n",
    "                X_pred = net(X)\n",
    "                loss = torch.sqrt((X_pred - X).pow(2).mean())\n",
    "                loss.backward()\n",
    "                optimizer.step()\n",
    "                epoch_loss += loss.item()\n",
    "                n_batches += 1\n",
    "\n",
    "            scheduler.step()\n",
    "            epoch_train_time = time.time() - epoch_start_time\n",
    "            print(f'| Epoch: {epoch + 1:03}/{self.n_epochs:03} | '\n",
    "                        f'Train Time: {epoch_train_time:.3f}s '\n",
    "                        f'| Train Loss: {epoch_loss / n_batches:.6f} |')\n",
    "\n",
    "        self.train_time = time.time() - start_time\n",
    "        print('Training Time: {:.3f}s'.format(self.train_time))\n",
    "        print('Finished training.')\n",
    "        return net\n",
    "\n",
    "    def test(self, dataset, net):\n",
    "        _, test_loader = dataset.loaders(batch_size=self.batch_size,\n",
    "                                         num_workers=self.n_jobs_dataloader)\n",
    "        net = net.to(self.device)\n",
    "        criterion = nn.MSELoss(reduction='none')\n",
    "\n",
    "        print('Starting testing...')\n",
    "        epoch_loss = 0.0\n",
    "        n_batches = 0\n",
    "        start_time = time.time()\n",
    "        idx_label_score = []\n",
    "        net.eval()\n",
    "        with torch.no_grad():\n",
    "            for data in test_loader:\n",
    "                X, y, idx = data\n",
    "                X, y, idx = X.to(self.device), y.to(self.device), idx.to(self.device)\n",
    "\n",
    "                X_pred = net(X)\n",
    "                loss = torch.sqrt((X_pred - X).pow(2).mean())\n",
    "\n",
    "                # Save triples of (idx, label, score) in a list\n",
    "                idx_label_score += list(zip(idx.cpu().data.numpy().tolist(),\n",
    "                                            y.cpu().data.numpy().tolist(),\n",
    "                                            scores.cpu().data.numpy().tolist()))\n",
    "\n",
    "                # epoch_loss += loss.item()\n",
    "                n_batches += 1\n",
    "\n",
    "        self.test_time = time.time() - start_time\n",
    "        self.test_scores = idx_label_score\n",
    "\n",
    "        # Compute AUC\n",
    "        _, labels, scores = zip(*idx_label_score)\n",
    "        labels = np.array(labels)\n",
    "        scores = np.array(scores)\n",
    "        # self.test_auc = roc_auc_score(labels, scores)\n",
    "\n",
    "        # Log results\n",
    "        # print('Test Loss: {:.6f}'.format(epoch_loss / n_batches))\n",
    "        # print('Test AUC: {:.2f}%'.format(100. * self.test_auc))\n",
    "        print('Test Time: {:.3f}s'.format(self.test_time))\n",
    "        print('Finished testing.')"
   ]
  },
  {
   "cell_type": "markdown",
   "metadata": {},
   "source": [
    "## 5.3. Reconstruction Evaluater"
   ]
  },
  {
   "cell_type": "code",
   "execution_count": 103,
   "metadata": {},
   "outputs": [],
   "source": [
    "class Evaluater(BaseEvaluater):\n",
    "    def __init__(self,\n",
    "                 eta: float = 1,\n",
    "                 batch_size: int = 32,\n",
    "                 device: str = 'cuda:1',\n",
    "                 n_jobs_dataloader: int = 0):\n",
    "        super().__init__(batch_size, device, n_jobs_dataloader)\n",
    "\n",
    "        # Hyper-parameter for the weight of anomaly training\n",
    "        self.eta = eta\n",
    "\n",
    "        # Results\n",
    "        self.test_auc = None\n",
    "        self.test_time = None\n",
    "        self.test_scores = None\n",
    "\n",
    "    def test(self, optimizer_, dataset, net):\n",
    "        # Get test data loader\n",
    "        all_loader = dataset.loaders(batch_size=self.batch_size,\n",
    "                                     num_workers=self.n_jobs_dataloader)\n",
    "\n",
    "        # Set device for network\n",
    "        net = net.to(self.device)\n",
    "\n",
    "        # Set loss\n",
    "        criterion = nn.MSELoss(reduction='none')\n",
    "\n",
    "        # Testing\n",
    "        print('Starting evaluating...')\n",
    "        epoch_loss = 0.0\n",
    "        n_batches = 0\n",
    "        start_time = time.time()\n",
    "        idx_label_score = []\n",
    "        net.eval()\n",
    "        with torch.no_grad():\n",
    "            for data in all_loader:\n",
    "                X, y, idx = data\n",
    "                X, y, idx = X.to(self.device), y.to(self.device), idx.to(self.device)\n",
    "\n",
    "                X_pred = net(X)\n",
    "                loss = torch.sqrt((X_pred - X).pow(2).mean())\n",
    "                scores = loss\n",
    "\n",
    "                # Save triples of (idx, label, score) in a list\n",
    "                idx_label_score += list(zip(idx.cpu().data.numpy().tolist(),\n",
    "                                            y.cpu().data.numpy().tolist(),\n",
    "                                            scores.cpu().data.numpy().tolist()))\n",
    "\n",
    "                epoch_loss += loss.item()\n",
    "                n_batches += 1\n",
    "\n",
    "        self.test_time = time.time() - start_time\n",
    "        self.test_scores = idx_label_score\n",
    "\n",
    "        # Compute AUC\n",
    "        _, labels, scores = zip(*idx_label_score)\n",
    "        labels = np.array(labels)\n",
    "        scores = np.array(scores)\n",
    "\n",
    "        # Log results\n",
    "        print('Test Loss: {:.6f}'.format(epoch_loss / n_batches))\n",
    "        print('Test Time: {:.3f}s'.format(self.test_time))\n",
    "        print('Finished testing.')"
   ]
  },
  {
   "cell_type": "markdown",
   "metadata": {},
   "source": [
    "# 6. Model"
   ]
  },
  {
   "cell_type": "markdown",
   "metadata": {},
   "source": [
    "## 6.1. Model for Training"
   ]
  },
  {
   "cell_type": "code",
   "execution_count": 104,
   "metadata": {},
   "outputs": [],
   "source": [
    "class Model:\n",
    "    def __init__(self,\n",
    "                 optimizer_: str = 'rec',\n",
    "                 eta: float = 1.0):\n",
    "        known_optimizer_ = ('rec', 'rec_unsupervised')\n",
    "        assert optimizer_ in known_optimizer_\n",
    "        self.optimizer_ = optimizer_\n",
    "        self.eta = eta\n",
    "        self.net_name = None\n",
    "        self.net = None\n",
    "        self.trainer = None\n",
    "        self.optimizer_name = None\n",
    "        self.results = {'train_time': None, 'test_auc': None,\n",
    "                        'test_time': None, 'test_scores': None}\n",
    "\n",
    "    def set_network(self, net_name):\n",
    "        self.net_name = net_name\n",
    "        self.net = build_network(net_name)\n",
    "\n",
    "    def train(self, dataset, eta: float = 1, optimizer_name: str = 'adam',\n",
    "              lr: float = 0.001, n_epochs: int = 60, lr_milestones: tuple = (100, 160, 220),\n",
    "              batch_size: int = 32, weight_decay: float = 1e-6, device: str = 'cuda:1',\n",
    "              n_jobs_dataloader: int = 0):\n",
    "        print('Learning rate: {}'.format(lr))\n",
    "        self.optimizer_name = optimizer_name\n",
    "\n",
    "        if self.optimizer_ == 'rec':\n",
    "            self.trainer = Trainer(eta, optimizer_name, lr, n_epochs, lr_milestones,\n",
    "                                      batch_size, weight_decay, device, n_jobs_dataloader)\n",
    "        if self.optimizer_ == 'rec_unsupervised':\n",
    "            self.trainer = Trainer_(eta, optimizer_name, lr, n_epochs, lr_milestones,\n",
    "                                       batch_size, weight_decay, device, n_jobs_dataloader)\n",
    "\n",
    "        self.net = self.trainer.train(dataset, self.net)\n",
    "        self.results['train_time'] = self.trainer.train_time\n",
    "\n",
    "    def test(self, dataset, device: str = 'cuda:1', n_jobs_dataloader: int = 0):\n",
    "        self.trainer.test(dataset, self.net)\n",
    "        if self.trainer.test_auc:\n",
    "            self.results['test_auc'] = self.trainer.test_auc\n",
    "        self.results['test_time'] = self.trainer.test_time\n",
    "        self.results['test_scores'] = self.trainer.test_scores\n",
    "\n",
    "    def save_model(self, export_model, save_ae=True):\n",
    "        net_dict = self.net.state_dict()\n",
    "        torch.save({'net_dict': net_dict}, export_model)\n",
    "\n",
    "    def load_model(self, model_path, load_ae=False, map_location='cuda:2'):\n",
    "        model_dict = torch.load(model_path, map_location=map_location)\n",
    "        self.net.load_state_dict(model_dict['net_dict'])\n",
    "\n",
    "    def save_results(self, export_json):\n",
    "        with open(export_json, 'w') as fp:\n",
    "            json.dump(self.results, fp)"
   ]
  },
  {
   "cell_type": "markdown",
   "metadata": {},
   "source": [
    "## 6.2. Model for Evaluating"
   ]
  },
  {
   "cell_type": "code",
   "execution_count": 105,
   "metadata": {},
   "outputs": [],
   "source": [
    "class ModelEval:\n",
    "    def __init__(self,\n",
    "                 optimizer_,\n",
    "                 eta: float = 1.0):\n",
    "        known_optimizer_ = ('rec', 'rec_unsupervised')\n",
    "        assert optimizer_ in known_optimizer_\n",
    "        self.optimizer_ = optimizer_\n",
    "        self.eta = eta\n",
    "        self.net = None\n",
    "        self.evaluater= None\n",
    "        self.optimizer_name = None\n",
    "        self.results = {'test_time': None,'test_scores': None}\n",
    "\n",
    "    def set_network(self, net_name):\n",
    "        self.net_name = net_name\n",
    "        self.net = build_network(net_name)\n",
    "\n",
    "    def load_model(self, model_path, map_location='cuda:1'):\n",
    "        model_dict = torch.load(model_path, map_location=map_location)\n",
    "        self.net.load_state_dict(model_dict['net_dict'])\n",
    "\n",
    "    def test(self,\n",
    "             dataset,\n",
    "             eta: float = 1,\n",
    "             batch_size: int = 32,\n",
    "             device: str = 'cuda:1',\n",
    "             n_jobs_dataloader: int = 0):\n",
    "\n",
    "        if self.evaluater is None:\n",
    "            self.evaluater = RecEvaluater(eta, batch_size, device, n_jobs_dataloader)\n",
    "\n",
    "        self.evaluater.test(self.optimizer_, dataset, self.net)\n",
    "        self.results['test_time'] = self.evaluater.test_time\n",
    "        self.results['test_scores'] = self.evaluater.test_scores\n",
    "\n",
    "    def save_results(self, export_json):\n",
    "        with open(export_json, 'w') as fp:\n",
    "            json.dump(self.results, fp)"
   ]
  },
  {
   "cell_type": "markdown",
   "metadata": {},
   "source": [
    "# 7. Main"
   ]
  },
  {
   "cell_type": "code",
   "execution_count": 118,
   "metadata": {},
   "outputs": [],
   "source": [
    "optimizer_ = 'rec_unsupervised'\n",
    "optimizer_name = 'adam'\n",
    "lr = 0.001\n",
    "n_epochs = 100\n",
    "lr_milestones = (50, 100, 150)\n",
    "batch_size = 16\n",
    "weight_decay = 1e-6\n",
    "n_jobs_dataloader = 0\n",
    "eta = 1\n",
    "net_name = 'segnet'"
   ]
  },
  {
   "cell_type": "code",
   "execution_count": null,
   "metadata": {},
   "outputs": [],
   "source": [
    "def load_dataset(loader_name: str='vggface2',\n",
    "                 root: str='/net/leksai/data/vggface2',\n",
    "                 folder: str='n009177',\n",
    "                 transform: bool=True):\n",
    "    \n",
    "    if loader_name == 'vggface2':\n",
    "        return VGGFace2Loader(root, folder, transform)"
   ]
  },
  {
   "cell_type": "code",
   "execution_count": 122,
   "metadata": {},
   "outputs": [
    {
     "name": "stdout",
     "output_type": "stream",
     "text": [
      "Hi! I am setting train_set for you.\n",
      "\n",
      "Hi! I am setting test_set for you.\n"
     ]
    }
   ],
   "source": [
    "dataset = load_dataset(loader_name, root, folder, transform)"
   ]
  },
  {
   "cell_type": "code",
   "execution_count": 114,
   "metadata": {},
   "outputs": [],
   "source": [
    "model = Model(optimizer_, eta)"
   ]
  },
  {
   "cell_type": "code",
   "execution_count": 117,
   "metadata": {},
   "outputs": [],
   "source": [
    "model.set_network(net_name)"
   ]
  },
  {
   "cell_type": "code",
   "execution_count": 123,
   "metadata": {},
   "outputs": [
    {
     "name": "stdout",
     "output_type": "stream",
     "text": [
      "Learning rate: 0.001\n",
      "Hey I am loading net for you!\n",
      "Setting hyper-parameters!\n",
      "Starting training...\n",
      "| Epoch: 001/100 | Train Time: 7.649s | Train Loss: 1.160488 |\n",
      "| Epoch: 002/100 | Train Time: 6.058s | Train Loss: 1.012340 |\n",
      "| Epoch: 003/100 | Train Time: 6.027s | Train Loss: 0.985596 |\n",
      "| Epoch: 004/100 | Train Time: 6.056s | Train Loss: 0.967704 |\n",
      "| Epoch: 005/100 | Train Time: 6.044s | Train Loss: 0.959772 |\n",
      "| Epoch: 006/100 | Train Time: 6.111s | Train Loss: 0.959317 |\n",
      "| Epoch: 007/100 | Train Time: 6.029s | Train Loss: 0.954576 |\n",
      "| Epoch: 008/100 | Train Time: 6.058s | Train Loss: 0.952279 |\n",
      "| Epoch: 009/100 | Train Time: 6.125s | Train Loss: 0.949561 |\n",
      "| Epoch: 010/100 | Train Time: 5.990s | Train Loss: 0.949801 |\n",
      "| Epoch: 011/100 | Train Time: 6.025s | Train Loss: 0.951413 |\n",
      "| Epoch: 012/100 | Train Time: 6.021s | Train Loss: 0.953439 |\n",
      "| Epoch: 013/100 | Train Time: 6.084s | Train Loss: 0.950000 |\n",
      "| Epoch: 014/100 | Train Time: 6.093s | Train Loss: 0.947164 |\n",
      "| Epoch: 015/100 | Train Time: 6.088s | Train Loss: 0.946926 |\n",
      "| Epoch: 016/100 | Train Time: 6.078s | Train Loss: 0.942031 |\n",
      "| Epoch: 017/100 | Train Time: 6.035s | Train Loss: 0.945144 |\n",
      "| Epoch: 018/100 | Train Time: 6.079s | Train Loss: 0.943265 |\n",
      "| Epoch: 019/100 | Train Time: 6.044s | Train Loss: 0.949034 |\n",
      "| Epoch: 020/100 | Train Time: 6.018s | Train Loss: 0.938241 |\n",
      "| Epoch: 021/100 | Train Time: 6.177s | Train Loss: 0.941739 |\n",
      "| Epoch: 022/100 | Train Time: 6.129s | Train Loss: 0.945118 |\n",
      "| Epoch: 023/100 | Train Time: 6.118s | Train Loss: 0.942723 |\n",
      "| Epoch: 024/100 | Train Time: 6.066s | Train Loss: 0.938327 |\n",
      "| Epoch: 025/100 | Train Time: 6.175s | Train Loss: 0.937457 |\n",
      "| Epoch: 026/100 | Train Time: 6.142s | Train Loss: 0.942839 |\n",
      "| Epoch: 027/100 | Train Time: 6.120s | Train Loss: 0.945099 |\n",
      "| Epoch: 028/100 | Train Time: 6.000s | Train Loss: 0.945893 |\n",
      "| Epoch: 029/100 | Train Time: 6.024s | Train Loss: 0.947690 |\n",
      "| Epoch: 030/100 | Train Time: 6.065s | Train Loss: 0.938666 |\n",
      "| Epoch: 031/100 | Train Time: 6.095s | Train Loss: 0.938378 |\n",
      "| Epoch: 032/100 | Train Time: 6.127s | Train Loss: 0.939882 |\n",
      "| Epoch: 033/100 | Train Time: 6.066s | Train Loss: 0.940178 |\n",
      "| Epoch: 034/100 | Train Time: 6.101s | Train Loss: 0.939452 |\n",
      "| Epoch: 035/100 | Train Time: 6.148s | Train Loss: 0.937940 |\n",
      "| Epoch: 036/100 | Train Time: 6.151s | Train Loss: 0.933435 |\n",
      "| Epoch: 037/100 | Train Time: 6.087s | Train Loss: 0.941608 |\n",
      "| Epoch: 038/100 | Train Time: 6.166s | Train Loss: 0.940208 |\n",
      "| Epoch: 039/100 | Train Time: 6.183s | Train Loss: 0.945335 |\n",
      "| Epoch: 040/100 | Train Time: 6.203s | Train Loss: 0.946211 |\n",
      "| Epoch: 041/100 | Train Time: 6.114s | Train Loss: 0.941114 |\n",
      "| Epoch: 042/100 | Train Time: 6.094s | Train Loss: 0.937158 |\n",
      "| Epoch: 043/100 | Train Time: 6.098s | Train Loss: 0.943551 |\n",
      "| Epoch: 044/100 | Train Time: 6.121s | Train Loss: 0.945166 |\n",
      "| Epoch: 045/100 | Train Time: 6.066s | Train Loss: 0.939568 |\n",
      "| Epoch: 046/100 | Train Time: 6.076s | Train Loss: 0.934928 |\n",
      "| Epoch: 047/100 | Train Time: 6.123s | Train Loss: 0.935604 |\n",
      "| Epoch: 048/100 | Train Time: 6.227s | Train Loss: 0.941263 |\n",
      "| Epoch: 049/100 | Train Time: 6.140s | Train Loss: 0.940984 |\n",
      "| Epoch: 050/100 | Train Time: 6.124s | Train Loss: 0.945906 |\n",
      "  LR scheduler: new learning rate is 1e-05\n",
      "| Epoch: 051/100 | Train Time: 6.153s | Train Loss: 0.938673 |\n",
      "| Epoch: 052/100 | Train Time: 6.186s | Train Loss: 0.939024 |\n",
      "| Epoch: 053/100 | Train Time: 6.142s | Train Loss: 0.934799 |\n",
      "| Epoch: 054/100 | Train Time: 6.079s | Train Loss: 0.936422 |\n",
      "| Epoch: 055/100 | Train Time: 6.157s | Train Loss: 0.944386 |\n",
      "| Epoch: 056/100 | Train Time: 6.093s | Train Loss: 0.947667 |\n",
      "| Epoch: 057/100 | Train Time: 6.203s | Train Loss: 0.936747 |\n",
      "| Epoch: 058/100 | Train Time: 6.156s | Train Loss: 0.936092 |\n",
      "| Epoch: 059/100 | Train Time: 6.159s | Train Loss: 0.934679 |\n",
      "| Epoch: 060/100 | Train Time: 6.109s | Train Loss: 0.938177 |\n",
      "| Epoch: 061/100 | Train Time: 6.094s | Train Loss: 0.945650 |\n",
      "| Epoch: 062/100 | Train Time: 6.103s | Train Loss: 0.938555 |\n",
      "| Epoch: 063/100 | Train Time: 6.166s | Train Loss: 0.934696 |\n",
      "| Epoch: 064/100 | Train Time: 6.109s | Train Loss: 0.939413 |\n",
      "| Epoch: 065/100 | Train Time: 6.116s | Train Loss: 0.942626 |\n",
      "| Epoch: 066/100 | Train Time: 6.133s | Train Loss: 0.940498 |\n",
      "| Epoch: 067/100 | Train Time: 6.146s | Train Loss: 0.937260 |\n",
      "| Epoch: 068/100 | Train Time: 6.149s | Train Loss: 0.940158 |\n",
      "| Epoch: 069/100 | Train Time: 6.183s | Train Loss: 0.941163 |\n",
      "| Epoch: 070/100 | Train Time: 6.160s | Train Loss: 0.936674 |\n",
      "| Epoch: 071/100 | Train Time: 6.129s | Train Loss: 0.938589 |\n",
      "| Epoch: 072/100 | Train Time: 6.125s | Train Loss: 0.940950 |\n",
      "| Epoch: 073/100 | Train Time: 6.130s | Train Loss: 0.940420 |\n",
      "| Epoch: 074/100 | Train Time: 6.207s | Train Loss: 0.939465 |\n",
      "| Epoch: 075/100 | Train Time: 6.233s | Train Loss: 0.945731 |\n",
      "| Epoch: 076/100 | Train Time: 6.134s | Train Loss: 0.934443 |\n",
      "| Epoch: 077/100 | Train Time: 6.061s | Train Loss: 0.935850 |\n",
      "| Epoch: 078/100 | Train Time: 6.127s | Train Loss: 0.934805 |\n",
      "| Epoch: 079/100 | Train Time: 6.086s | Train Loss: 0.933379 |\n",
      "| Epoch: 080/100 | Train Time: 6.130s | Train Loss: 0.940613 |\n",
      "| Epoch: 081/100 | Train Time: 6.079s | Train Loss: 0.939214 |\n",
      "| Epoch: 082/100 | Train Time: 6.127s | Train Loss: 0.941406 |\n",
      "| Epoch: 083/100 | Train Time: 6.151s | Train Loss: 0.937238 |\n",
      "| Epoch: 084/100 | Train Time: 6.083s | Train Loss: 0.936802 |\n",
      "| Epoch: 085/100 | Train Time: 6.202s | Train Loss: 0.939201 |\n",
      "| Epoch: 086/100 | Train Time: 6.130s | Train Loss: 0.940704 |\n",
      "| Epoch: 087/100 | Train Time: 6.114s | Train Loss: 0.932582 |\n",
      "| Epoch: 088/100 | Train Time: 6.212s | Train Loss: 0.938806 |\n",
      "| Epoch: 089/100 | Train Time: 6.102s | Train Loss: 0.939736 |\n",
      "| Epoch: 090/100 | Train Time: 6.132s | Train Loss: 0.936502 |\n",
      "| Epoch: 091/100 | Train Time: 6.268s | Train Loss: 0.937343 |\n",
      "| Epoch: 092/100 | Train Time: 6.116s | Train Loss: 0.941374 |\n",
      "| Epoch: 093/100 | Train Time: 6.133s | Train Loss: 0.934475 |\n",
      "| Epoch: 094/100 | Train Time: 6.126s | Train Loss: 0.937583 |\n",
      "| Epoch: 095/100 | Train Time: 6.166s | Train Loss: 0.941419 |\n",
      "| Epoch: 096/100 | Train Time: 6.109s | Train Loss: 0.936781 |\n",
      "| Epoch: 097/100 | Train Time: 6.155s | Train Loss: 0.937215 |\n",
      "| Epoch: 098/100 | Train Time: 6.126s | Train Loss: 0.945186 |\n",
      "| Epoch: 099/100 | Train Time: 6.129s | Train Loss: 0.941772 |\n",
      "| Epoch: 100/100 | Train Time: 6.137s | Train Loss: 0.942957 |\n",
      "Training Time: 613.219s\n",
      "Finished training.\n"
     ]
    }
   ],
   "source": [
    "model.train(dataset, eta, optimizer_name, lr, n_epochs, lr_milestones,\n",
    "            batch_size, weight_decay, device, n_jobs_dataloader)"
   ]
  },
  {
   "cell_type": "code",
   "execution_count": null,
   "metadata": {},
   "outputs": [],
   "source": []
  }
 ],
 "metadata": {
  "kernelspec": {
   "display_name": "Python 3",
   "language": "python",
   "name": "python3"
  },
  "language_info": {
   "codemirror_mode": {
    "name": "ipython",
    "version": 3
   },
   "file_extension": ".py",
   "mimetype": "text/x-python",
   "name": "python",
   "nbconvert_exporter": "python",
   "pygments_lexer": "ipython3",
   "version": "3.7.5"
  }
 },
 "nbformat": 4,
 "nbformat_minor": 2
}
